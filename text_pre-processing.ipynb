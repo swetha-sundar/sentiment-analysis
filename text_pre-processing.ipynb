{
 "cells": [
  {
   "cell_type": "markdown",
   "metadata": {},
   "source": [
    "## Overview\n",
    "\n",
    "This notebook performs sentiment analysis on twitter dataset obtained from Kaggle\n",
    "\n",
    "Link to dataset: https://www.kaggle.com/c/twitter-sentiment-analysis2/data\n",
    "\n",
    "- Section 1: Exploring the training dataset\n",
    "- Section 2: Test data\n",
    "- **Section 3: Pre-Processing data for Sentiment Analysis**\n",
    "- Section 4: Training and Evaluation\n",
    "- Section 5: Metrics, Measurements and Conclusion"
   ]
  },
  {
   "cell_type": "markdown",
   "metadata": {},
   "source": [
    "### Section 3: Pre-Processing data for Sentiment Analysis\n",
    "\n",
    "Text pre-processing is an important step in a Natural Language Processing (NLP) task because it helps remove any unnecessary characteristics in the data which would make the final trained model a poor generalizer\n",
    "\n",
    "What is involved in the pre-processing?\n",
    "\n",
    "- Removing unwanted characters like punctuations, emojis, etc...\n",
    "- Properly formatting the text to remove extra spaces or any other information in that text\n",
    "- Removing stop words, common words that do not add any useful information \n",
    "- Need to make sure that the information we pass the model is in the format that a machine can understand (as binary/digits)\n",
    "- Pre-Processing is done on the training data to facilitate the model's learning \n",
    "\n",
    "After pre-processing step, data should be fed to an appropriate machine learning algorithm to extract valuable information to do classification on new (unseen) data \n",
    "\n"
   ]
  },
  {
   "cell_type": "markdown",
   "metadata": {},
   "source": [
    "#### Pre-processing Step 1\n",
    "\n",
    "Clean the tweet data by removing any hyperlinks and special characters\n",
    "\n",
    "\n"
   ]
  },
  {
   "cell_type": "code",
   "execution_count": 1,
   "metadata": {},
   "outputs": [],
   "source": [
    "import re"
   ]
  },
  {
   "cell_type": "code",
   "execution_count": 2,
   "metadata": {},
   "outputs": [],
   "source": [
    "#Function to clean the tweets\n",
    "def processText(text):\n",
    "    #Convert to lowercase\n",
    "    text = text.lower()    \n",
    "    #Remove hyperlinks\n",
    "    text = re.sub(r'http?:\\/\\/.*\\/\\w*', '', text)\n",
    "    #Remove punctuations and replace with a space\n",
    "    text = re.sub(r'[' + punctuation.replace('@', '') + ']+', ' ', text)\n",
    "    # Remove whitespace (including new line characters)\n",
    "    text = re.sub(r'\\s\\s+', ' ', text)\n",
    "    #Remove single space remaining at the front of the text\n",
    "    text = text.lstrip(' ')\n",
    "    return text"
   ]
  },
  {
   "cell_type": "code",
   "execution_count": null,
   "metadata": {},
   "outputs": [],
   "source": []
  }
 ],
 "metadata": {
  "kernelspec": {
   "display_name": "Python 3",
   "language": "python",
   "name": "python3"
  },
  "language_info": {
   "codemirror_mode": {
    "name": "ipython",
    "version": 3
   },
   "file_extension": ".py",
   "mimetype": "text/x-python",
   "name": "python",
   "nbconvert_exporter": "python",
   "pygments_lexer": "ipython3",
   "version": "3.6.5"
  }
 },
 "nbformat": 4,
 "nbformat_minor": 2
}
