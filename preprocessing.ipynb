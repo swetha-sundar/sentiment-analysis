{
 "cells": [
  {
   "cell_type": "code",
   "execution_count": 29,
   "metadata": {},
   "outputs": [],
   "source": [
    "import pandas as pd\n",
    "import matplotlib.pyplot as plt\n",
    "from collections import Counter\n",
    "import nltk"
   ]
  },
  {
   "cell_type": "code",
   "execution_count": 2,
   "metadata": {},
   "outputs": [
    {
     "data": {
      "text/html": [
       "<div>\n",
       "<style scoped>\n",
       "    .dataframe tbody tr th:only-of-type {\n",
       "        vertical-align: middle;\n",
       "    }\n",
       "\n",
       "    .dataframe tbody tr th {\n",
       "        vertical-align: top;\n",
       "    }\n",
       "\n",
       "    .dataframe thead th {\n",
       "        text-align: right;\n",
       "    }\n",
       "</style>\n",
       "<table border=\"1\" class=\"dataframe\">\n",
       "  <thead>\n",
       "    <tr style=\"text-align: right;\">\n",
       "      <th></th>\n",
       "      <th>id</th>\n",
       "      <th>sentiment</th>\n",
       "      <th>text</th>\n",
       "    </tr>\n",
       "  </thead>\n",
       "  <tbody>\n",
       "    <tr>\n",
       "      <th>0</th>\n",
       "      <td>1</td>\n",
       "      <td>0</td>\n",
       "      <td>is so sad for my APL frie...</td>\n",
       "    </tr>\n",
       "    <tr>\n",
       "      <th>1</th>\n",
       "      <td>2</td>\n",
       "      <td>0</td>\n",
       "      <td>I missed the New Moon trail...</td>\n",
       "    </tr>\n",
       "  </tbody>\n",
       "</table>\n",
       "</div>"
      ],
      "text/plain": [
       "   id  sentiment                                               text\n",
       "0   1          0                       is so sad for my APL frie...\n",
       "1   2          0                     I missed the New Moon trail..."
      ]
     },
     "execution_count": 2,
     "metadata": {},
     "output_type": "execute_result"
    }
   ],
   "source": [
    "train_file = 'data/train.csv'\n",
    "test_file = 'data/test.csv'\n",
    "\n",
    "#Explore the training dataset\n",
    "#Note: For some reason, if you dont specify the encoding as latin-1, the interpreter will throw an UTF-8 encoding error\n",
    "data = pd.read_csv(train_file, error_bad_lines=False, encoding='latin-1')\n",
    "data.columns = ['id', 'sentiment', 'text']\n",
    "data.head(2)"
   ]
  },
  {
   "cell_type": "code",
   "execution_count": 3,
   "metadata": {},
   "outputs": [
    {
     "data": {
      "text/html": [
       "<div>\n",
       "<style scoped>\n",
       "    .dataframe tbody tr th:only-of-type {\n",
       "        vertical-align: middle;\n",
       "    }\n",
       "\n",
       "    .dataframe tbody tr th {\n",
       "        vertical-align: top;\n",
       "    }\n",
       "\n",
       "    .dataframe thead th {\n",
       "        text-align: right;\n",
       "    }\n",
       "</style>\n",
       "<table border=\"1\" class=\"dataframe\">\n",
       "  <thead>\n",
       "    <tr style=\"text-align: right;\">\n",
       "      <th></th>\n",
       "      <th>sentiment</th>\n",
       "      <th>text</th>\n",
       "    </tr>\n",
       "  </thead>\n",
       "  <tbody>\n",
       "    <tr>\n",
       "      <th>0</th>\n",
       "      <td>0</td>\n",
       "      <td>is so sad for my APL frie...</td>\n",
       "    </tr>\n",
       "    <tr>\n",
       "      <th>1</th>\n",
       "      <td>0</td>\n",
       "      <td>I missed the New Moon trail...</td>\n",
       "    </tr>\n",
       "    <tr>\n",
       "      <th>2</th>\n",
       "      <td>1</td>\n",
       "      <td>omg its already 7:30 :O</td>\n",
       "    </tr>\n",
       "    <tr>\n",
       "      <th>3</th>\n",
       "      <td>0</td>\n",
       "      <td>.. Omgaga. Im sooo  im gunna CRy. I'...</td>\n",
       "    </tr>\n",
       "    <tr>\n",
       "      <th>4</th>\n",
       "      <td>0</td>\n",
       "      <td>i think mi bf is cheating on me!!!   ...</td>\n",
       "    </tr>\n",
       "    <tr>\n",
       "      <th>5</th>\n",
       "      <td>0</td>\n",
       "      <td>or i just worry too much?</td>\n",
       "    </tr>\n",
       "    <tr>\n",
       "      <th>6</th>\n",
       "      <td>1</td>\n",
       "      <td>Juuuuuuuuuuuuuuuuussssst Chillin!!</td>\n",
       "    </tr>\n",
       "    <tr>\n",
       "      <th>7</th>\n",
       "      <td>0</td>\n",
       "      <td>Sunny Again        Work Tomorrow  :-|  ...</td>\n",
       "    </tr>\n",
       "    <tr>\n",
       "      <th>8</th>\n",
       "      <td>1</td>\n",
       "      <td>handed in my uniform today . i miss you ...</td>\n",
       "    </tr>\n",
       "    <tr>\n",
       "      <th>9</th>\n",
       "      <td>1</td>\n",
       "      <td>hmmmm.... i wonder how she my number @-)</td>\n",
       "    </tr>\n",
       "  </tbody>\n",
       "</table>\n",
       "</div>"
      ],
      "text/plain": [
       "   sentiment                                               text\n",
       "0          0                       is so sad for my APL frie...\n",
       "1          0                     I missed the New Moon trail...\n",
       "2          1                            omg its already 7:30 :O\n",
       "3          0            .. Omgaga. Im sooo  im gunna CRy. I'...\n",
       "4          0           i think mi bf is cheating on me!!!   ...\n",
       "5          0                  or i just worry too much?        \n",
       "6          1                 Juuuuuuuuuuuuuuuuussssst Chillin!!\n",
       "7          0         Sunny Again        Work Tomorrow  :-|  ...\n",
       "8          1        handed in my uniform today . i miss you ...\n",
       "9          1           hmmmm.... i wonder how she my number @-)"
      ]
     },
     "execution_count": 3,
     "metadata": {},
     "output_type": "execute_result"
    }
   ],
   "source": [
    "#Id information is not useful. So let's remove it\n",
    "#axis=1 indicates columns\n",
    "data = data.drop(labels=['id'], axis=1)\n",
    "data.head(10)"
   ]
  },
  {
   "cell_type": "markdown",
   "metadata": {},
   "source": [
    "### Observations:\n",
    "1. Data has a mix of alphabets, numbers and symbols\n",
    "2. Mix of words with uppercase and lowercase letters\n",
    "3. We need to normalize the words to their base word. Leaving capitalizaed words in the middle of the tweet can be\n",
    "   experimented with as they may hold different feature space like name of the person, country, etc.. \n",
    "4. No particular order of sentiment and tweets. If data is not randomly distributed then it can introduce bias to a learning model\n",
    "5. Need to split and shuffle the data to reduce variance (makes sure the model can generalize better on the data) \n",
    "   and does not lead to overfitting \n",
    "6. Need to get an idea of the distribution of data"
   ]
  },
  {
   "cell_type": "code",
   "execution_count": 5,
   "metadata": {},
   "outputs": [
    {
     "name": "stdout",
     "output_type": "stream",
     "text": [
      "Number of postive tweets 56457\n",
      "Number of negative tweets 43532\n",
      "Total Length of the data is: 99989\n"
     ]
    }
   ],
   "source": [
    "# calculate the number of positive and negative tweets\n",
    "positives = data['sentiment'][data.sentiment == 1]\n",
    "negatives = data['sentiment'][data.sentiment == 0]\n",
    "\n",
    "print('Number of postive tweets {}' .format(len(positives)))\n",
    "print('Number of negative tweets {}' .format(len(negatives)))\n",
    "print('Total Length of the data is: {}' .format(data.shape[0]))"
   ]
  },
  {
   "cell_type": "markdown",
   "metadata": {},
   "source": [
    "### More observations\n",
    "7. From the result, looks like an even distribution of positive and negative sentiments\n",
    "8. Are there any duplicates in the data? Get the unique counts to identify this\n",
    "9. How many average number of words are there in a tweet? Do a word count\n",
    "10. What are the most common words present in the dataset?"
   ]
  },
  {
   "cell_type": "code",
   "execution_count": 6,
   "metadata": {},
   "outputs": [
    {
     "data": {
      "text/html": [
       "<div>\n",
       "<style scoped>\n",
       "    .dataframe tbody tr th:only-of-type {\n",
       "        vertical-align: middle;\n",
       "    }\n",
       "\n",
       "    .dataframe tbody tr th {\n",
       "        vertical-align: top;\n",
       "    }\n",
       "\n",
       "    .dataframe thead tr th {\n",
       "        text-align: left;\n",
       "    }\n",
       "\n",
       "    .dataframe thead tr:last-of-type th {\n",
       "        text-align: right;\n",
       "    }\n",
       "</style>\n",
       "<table border=\"1\" class=\"dataframe\">\n",
       "  <thead>\n",
       "    <tr>\n",
       "      <th></th>\n",
       "      <th colspan=\"4\" halign=\"left\">text</th>\n",
       "    </tr>\n",
       "    <tr>\n",
       "      <th></th>\n",
       "      <th>count</th>\n",
       "      <th>unique</th>\n",
       "      <th>top</th>\n",
       "      <th>freq</th>\n",
       "    </tr>\n",
       "    <tr>\n",
       "      <th>sentiment</th>\n",
       "      <th></th>\n",
       "      <th></th>\n",
       "      <th></th>\n",
       "      <th></th>\n",
       "    </tr>\n",
       "  </thead>\n",
       "  <tbody>\n",
       "    <tr>\n",
       "      <th>0</th>\n",
       "      <td>43532</td>\n",
       "      <td>43532</td>\n",
       "      <td>@Aneesaah__x i feel like shit bcz of that sada...</td>\n",
       "      <td>1</td>\n",
       "    </tr>\n",
       "    <tr>\n",
       "      <th>1</th>\n",
       "      <td>56457</td>\n",
       "      <td>56457</td>\n",
       "      <td>@ashaj Those lucky geniuses! Hope you're havin...</td>\n",
       "      <td>1</td>\n",
       "    </tr>\n",
       "  </tbody>\n",
       "</table>\n",
       "</div>"
      ],
      "text/plain": [
       "            text                                                            \\\n",
       "           count unique                                                top   \n",
       "sentiment                                                                    \n",
       "0          43532  43532  @Aneesaah__x i feel like shit bcz of that sada...   \n",
       "1          56457  56457  @ashaj Those lucky geniuses! Hope you're havin...   \n",
       "\n",
       "                \n",
       "          freq  \n",
       "sentiment       \n",
       "0            1  \n",
       "1            1  "
      ]
     },
     "execution_count": 6,
     "metadata": {},
     "output_type": "execute_result"
    }
   ],
   "source": [
    "data.groupby('sentiment').describe()"
   ]
  },
  {
   "cell_type": "markdown",
   "metadata": {},
   "source": [
    "Seems like there are no duplicates"
   ]
  },
  {
   "cell_type": "code",
   "execution_count": 10,
   "metadata": {},
   "outputs": [
    {
     "data": {
      "text/html": [
       "<div>\n",
       "<style scoped>\n",
       "    .dataframe tbody tr th:only-of-type {\n",
       "        vertical-align: middle;\n",
       "    }\n",
       "\n",
       "    .dataframe tbody tr th {\n",
       "        vertical-align: top;\n",
       "    }\n",
       "\n",
       "    .dataframe thead th {\n",
       "        text-align: right;\n",
       "    }\n",
       "</style>\n",
       "<table border=\"1\" class=\"dataframe\">\n",
       "  <thead>\n",
       "    <tr style=\"text-align: right;\">\n",
       "      <th></th>\n",
       "      <th>sentiment</th>\n",
       "      <th>text</th>\n",
       "      <th>word_count</th>\n",
       "    </tr>\n",
       "  </thead>\n",
       "  <tbody>\n",
       "    <tr>\n",
       "      <th>0</th>\n",
       "      <td>0</td>\n",
       "      <td>is so sad for my APL frie...</td>\n",
       "      <td>7</td>\n",
       "    </tr>\n",
       "    <tr>\n",
       "      <th>1</th>\n",
       "      <td>0</td>\n",
       "      <td>I missed the New Moon trail...</td>\n",
       "      <td>6</td>\n",
       "    </tr>\n",
       "    <tr>\n",
       "      <th>2</th>\n",
       "      <td>1</td>\n",
       "      <td>omg its already 7:30 :O</td>\n",
       "      <td>5</td>\n",
       "    </tr>\n",
       "    <tr>\n",
       "      <th>3</th>\n",
       "      <td>0</td>\n",
       "      <td>.. Omgaga. Im sooo  im gunna CRy. I'...</td>\n",
       "      <td>25</td>\n",
       "    </tr>\n",
       "    <tr>\n",
       "      <th>4</th>\n",
       "      <td>0</td>\n",
       "      <td>i think mi bf is cheating on me!!!   ...</td>\n",
       "      <td>9</td>\n",
       "    </tr>\n",
       "  </tbody>\n",
       "</table>\n",
       "</div>"
      ],
      "text/plain": [
       "   sentiment                                               text  word_count\n",
       "0          0                       is so sad for my APL frie...           7\n",
       "1          0                     I missed the New Moon trail...           6\n",
       "2          1                            omg its already 7:30 :O           5\n",
       "3          0            .. Omgaga. Im sooo  im gunna CRy. I'...          25\n",
       "4          0           i think mi bf is cheating on me!!!   ...           9"
      ]
     },
     "execution_count": 10,
     "metadata": {},
     "output_type": "execute_result"
    }
   ],
   "source": [
    "# Function to calculate the number of words in a sentence.\n",
    "# Using the delimiter to be a space\n",
    "def word_count(tweet):\n",
    "    return len(tweet.split())\n",
    "\n",
    "data['word_count'] = data['text'].apply(word_count)\n",
    "data.head(5)"
   ]
  },
  {
   "cell_type": "code",
   "execution_count": 26,
   "metadata": {},
   "outputs": [
    {
     "data": {
      "text/plain": [
       "<matplotlib.legend.Legend at 0x11cf91748>"
      ]
     },
     "execution_count": 26,
     "metadata": {},
     "output_type": "execute_result"
    },
    {
     "data": {
      "image/png": "[encoded data removed]",
      "text/plain": [
       "<Figure size 864x432 with 1 Axes>"
      ]
     },
     "metadata": {},
     "output_type": "display_data"
    }
   ],
   "source": [
    "# Plot a histogram of the word counts\n",
    "\n",
    "x = data['word_count'][data.sentiment == 0]\n",
    "y = data['word_count'][data.sentiment == 1]\n",
    "plt.figure(figsize=(12,6))\n",
    "plt.xlabel('word count')\n",
    "plt.ylabel('frequency')\n",
    "graph = plt.hist([x,y], label=['negative', 'postive'])\n",
    "plt.xlim(0,45)\n",
    "plt.legend(loc='upper right')"
   ]
  },
  {
   "cell_type": "markdown",
   "metadata": {},
   "source": [
    "### More observations\n",
    "\n",
    "- From the histogram, it seems like most data seems to be less than 25 words. This is mostly because the tweet is less than 280 characters and so this data is good representative for twitter data\n",
    "- Majority of them in the range of 5 to 10. \n",
    "- As the word count increases, the tweets tend to be negative\n",
    "- There are more postive sentences/tweets which are 10 words an less\n"
   ]
  },
  {
   "cell_type": "code",
   "execution_count": 28,
   "metadata": {},
   "outputs": [
    {
     "data": {
      "text/plain": [
       "[('i', 48880),\n",
       " ('the', 29629),\n",
       " ('to', 29177),\n",
       " ('you', 23456),\n",
       " ('a', 21908),\n",
       " ('and', 15826),\n",
       " ('it', 14154),\n",
       " ('my', 13598),\n",
       " ('for', 12378),\n",
       " ('is', 11618),\n",
       " ('in', 11497),\n",
       " ('of', 10519),\n",
       " ('that', 10051),\n",
       " ('have', 9794),\n",
       " ('on', 9228)]"
      ]
     },
     "execution_count": 28,
     "metadata": {},
     "output_type": "execute_result"
    }
   ],
   "source": [
    "# Collect all the words in the training dataset\n",
    "all_words = []\n",
    "for line in list(data['text']):\n",
    "    words = line.split()\n",
    "    for word in words:\n",
    "        all_words.append(word.lower())\n",
    "\n",
    "Counter(all_words).most_common(15)"
   ]
  },
  {
   "cell_type": "markdown",
   "metadata": {},
   "source": [
    "- This shows the top 15 common words in the training dataset\n",
    "- From the list, the stop words like *the*, *to* etc.. are very highly used. They are generally used in both positive and negative expressions and hence do not add any information that can be incorporated into the model. So these words can be removed from the data set"
   ]
  },
  {
   "cell_type": "markdown",
   "metadata": {},
   "source": [
    "###  Frequency Distribution\n",
    "Frequency distribution = frequency of each vocabulary item in the text\n",
    "\n",
    "It is a distribution because it tells us how the total number of word tokens in the text are distributed across the vocabulary items. \n",
    "\n",
    "Reference: https://www.nltk.org/book/ch01.html"
   ]
  },
  {
   "cell_type": "code",
   "execution_count": 36,
   "metadata": {},
   "outputs": [
    {
     "name": "stdout",
     "output_type": "stream",
     "text": [
      "<FreqDist with 165473 samples and 1330178 outcomes>\n"
     ]
    },
    {
     "data": {
      "image/png": "[encoded data removed]",
      "text/plain": [
       "<Figure size 864x360 with 1 Axes>"
      ]
     },
     "metadata": {},
     "output_type": "display_data"
    }
   ],
   "source": [
    "# plot word frequency distribution of top common words\n",
    "plt.figure(figsize=(12,5))\n",
    "plt.title(\"Top 25 common words\")\n",
    "fd = nltk.FreqDist(all_words)\n",
    "print(fd)\n",
    "fd.most_common(25)\n",
    "fd.plot(25, cumulative=False)"
   ]
  },
  {
   "cell_type": "code",
   "execution_count": null,
   "metadata": {},
   "outputs": [],
   "source": []
  }
 ],
 "metadata": {
  "kernelspec": {
   "display_name": "Python 3",
   "language": "python",
   "name": "python3"
  },
  "language_info": {
   "codemirror_mode": {
    "name": "ipython",
    "version": 3
   },
   "file_extension": ".py",
   "mimetype": "text/x-python",
   "name": "python",
   "nbconvert_exporter": "python",
   "pygments_lexer": "ipython3",
   "version": "3.6.5"
  }
 },
 "nbformat": 4,
 "nbformat_minor": 2
}
